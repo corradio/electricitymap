{
 "cells": [
  {
   "cell_type": "code",
   "execution_count": 105,
   "metadata": {
    "collapsed": true
   },
   "outputs": [],
   "source": [
    "import arrow\n",
    "import json\n",
    "import numpy as np\n",
    "\n",
    "%matplotlib inline \n",
    "import matplotlib.pyplot as plt"
   ]
  },
  {
   "cell_type": "code",
   "execution_count": 112,
   "metadata": {
    "collapsed": false
   },
   "outputs": [
    {
     "name": "stdout",
     "output_type": "stream",
     "text": [
      "282395 objects loaded\n"
     ]
    }
   ],
   "source": [
    "with open('backup.json', 'r') as f:\n",
    "    obj = sorted(\n",
    "        filter(lambda o: 'datetime' in o, \n",
    "            map(json.loads, f.readlines())\n",
    "        ), key=lambda o: o['datetime']['$date'])\n",
    "print '%d objects loaded' % len(obj)"
   ]
  },
  {
   "cell_type": "code",
   "execution_count": 113,
   "metadata": {
    "collapsed": true
   },
   "outputs": [],
   "source": [
    "country_codes = [\n",
    "    'AT',\n",
    "    'BE',\n",
    "    'BG',\n",
    "    'BA',\n",
    "    'BY',\n",
    "    'CH',\n",
    "    'CZ',\n",
    "    'DE',\n",
    "    'DK',\n",
    "    'ES',\n",
    "    'EE',\n",
    "    'FI',\n",
    "    'FR',\n",
    "    'GB',\n",
    "    'GR',\n",
    "    'HR',\n",
    "    'HU',\n",
    "    'IE',\n",
    "    'IS',\n",
    "    'IT',\n",
    "    'LT',\n",
    "    'LU',\n",
    "    'LV',\n",
    "    'MD',\n",
    "    'NL',\n",
    "    'NO',\n",
    "    'PL',\n",
    "    'PT',\n",
    "    'RO',\n",
    "    'RU',\n",
    "    'RS',\n",
    "    'SK',\n",
    "    'SI',\n",
    "    'SE',\n",
    "    'UA'\n",
    "];"
   ]
  },
  {
   "cell_type": "code",
   "execution_count": 75,
   "metadata": {
    "collapsed": true
   },
   "outputs": [],
   "source": [
    "def parse_entry(entry):\n",
    "    vector = []\n",
    "    dt = None\n",
    "    for country_code in country_codes:\n",
    "        country_data = entry.get(country_code, None)\n",
    "        if country_data:\n",
    "            if not dt: dt = arrow.get(country_data['data']['datetime']).datetime\n",
    "            vector += [country_data['data']['co2intensity']]\n",
    "        else: vector += [None]\n",
    "      \n",
    "    vector.insert(0, dt)\n",
    "    return vector"
   ]
  },
  {
   "cell_type": "code",
   "execution_count": 102,
   "metadata": {
    "collapsed": false
   },
   "outputs": [],
   "source": [
    "data = np.array(map(parse_entry, obj))\n",
    "#data = data[35:]"
   ]
  },
  {
   "cell_type": "code",
   "execution_count": 103,
   "metadata": {
    "collapsed": false
   },
   "outputs": [
    {
     "data": {
      "image/png": "[encoded data removed]",
      "text/plain": [
       "<matplotlib.figure.Figure at 0x1130eb150>"
      ]
     },
     "metadata": {},
     "output_type": "display_data"
    }
   ],
   "source": [
    "plt.plot(data[:,0], data[:, 1:]);"
   ]
  },
  {
   "cell_type": "code",
   "execution_count": null,
   "metadata": {
    "collapsed": true
   },
   "outputs": [],
   "source": []
  }
 ],
 "metadata": {
  "kernelspec": {
   "display_name": "Python 2",
   "language": "python",
   "name": "python2"
  },
  "language_info": {
   "codemirror_mode": {
    "name": "ipython",
    "version": 2
   },
   "file_extension": ".py",
   "mimetype": "text/x-python",
   "name": "python",
   "nbconvert_exporter": "python",
   "pygments_lexer": "ipython2",
   "version": "2.7.10"
  }
 },
 "nbformat": 4,
 "nbformat_minor": 1
}
