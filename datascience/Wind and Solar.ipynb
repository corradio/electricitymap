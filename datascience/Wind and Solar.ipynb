{
 "cells": [
  {
   "cell_type": "code",
   "execution_count": 48,
   "metadata": {
    "collapsed": true
   },
   "outputs": [],
   "source": [
    "import arrow\n",
    "import json\n",
    "import pandas as pd\n",
    "import numpy as np\n",
    "import requests\n",
    "\n",
    "%matplotlib inline \n",
    "import matplotlib.pyplot as plt"
   ]
  },
  {
   "cell_type": "code",
   "execution_count": 115,
   "metadata": {
    "collapsed": false
   },
   "outputs": [],
   "source": [
    "endpoint = 'http://localhost:8000'\n",
    "country_codes = ['FR', 'DK']\n",
    "start, end = [\n",
    "    arrow.get(2016,  9, 1),\n",
    "    arrow.get(2016, 11, 25)\n",
    "]\n",
    "time_span = map(lambda o: o[0], arrow.Arrow.span_range('hour', start, end))"
   ]
  },
  {
   "cell_type": "code",
   "execution_count": 80,
   "metadata": {
    "collapsed": false
   },
   "outputs": [],
   "source": [
    "r = requests.session()"
   ]
  },
  {
   "cell_type": "code",
   "execution_count": 81,
   "metadata": {
    "collapsed": false
   },
   "outputs": [
    {
     "name": "stdout",
     "output_type": "stream",
     "text": [
      "2016-09-01T00:00:00+00:00 None\n"
     ]
    }
   ],
   "source": [
    "def fetch_production(country_code, t):\n",
    "    url = '%s/v1/production' % endpoint\n",
    "    params = {\n",
    "        'countryCode': country_code,\n",
    "        'datetime': t.to('utc').isoformat()\n",
    "    }\n",
    "    obj = r.get(url, params=params).json()\n",
    "    if not obj: return\n",
    "    return obj if (t - arrow.get(obj['datetime'])).total_seconds() < 3600 else None\n",
    "print time_span[0], fetch_production(country_codes[0], time_span[0])"
   ]
  },
  {
   "cell_type": "code",
   "execution_count": 102,
   "metadata": {
    "collapsed": false
   },
   "outputs": [
    {
     "name": "stdout",
     "output_type": "stream",
     "text": [
      "Fetching FR..\n",
      "2016-11-23 19:00:00+00:00 FR\n",
      "2016-11-23 20:00:00+00:00 FR\n",
      "2016-11-23 21:00:00+00:00 FR\n",
      "2016-11-23 22:00:00+00:00 FR\n",
      "2016-11-23 23:00:00+00:00 FR\n",
      "2016-11-23 23:15:00+00:00 FR\n",
      "Fetching DK..\n",
      "2016-11-23 17:00:00+00:00 DK\n",
      "2016-11-23 18:00:00+00:00 DK\n",
      "2016-11-23 19:00:00+00:00 DK\n",
      "2016-11-23 20:00:00+00:00 DK\n",
      "2016-11-23 21:00:00+00:00 DK\n",
      "2016-11-23 22:00:00+00:00 DK\n"
     ]
    }
   ],
   "source": [
    "# Fetch all country production data\n",
    "dates = map(lambda t: pd.Timestamp(t.datetime), time_span)\n",
    "df_wind = pd.DataFrame(np.zeros((len(time_span), len(country_codes)))*np.nan, index=dates, columns=country_codes)\n",
    "\n",
    "for country_code in country_codes:\n",
    "    print 'Fetching %s..' % country_code\n",
    "    for t in time_span:\n",
    "        o = fetch_production(country_code, t)\n",
    "        if not o: continue\n",
    "        t = arrow.get(o['datetime']).datetime\n",
    "        if o.get('production', {}).get('wind', None) is not None:\n",
    "            df_wind.loc[t, country_code] = o['production']['wind']\n",
    "# TODO: write in a cache"
   ]
  },
  {
   "cell_type": "code",
   "execution_count": 119,
   "metadata": {
    "collapsed": false
   },
   "outputs": [
    {
     "data": {
      "text/plain": [
       "<matplotlib.axes._subplots.AxesSubplot at 0x10d2ab5d0>"
      ]
     },
     "execution_count": 119,
     "metadata": {},
     "output_type": "execute_result"
    },
    {
     "data": {
      "image/png": "[encoded data removed]",
      "text/plain": [
       "<matplotlib.figure.Figure at 0x10be94250>"
      ]
     },
     "metadata": {},
     "output_type": "display_data"
    }
   ],
   "source": [
    "df_wind.dropna().plot(marker='x')"
   ]
  },
  {
   "cell_type": "code",
   "execution_count": 46,
   "metadata": {
    "collapsed": false
   },
   "outputs": [],
   "source": [
    "def fetch_best_forecast(t):\n",
    "    # Return wind grid\n",
    "    pass\n",
    "def get_wind_measurements(country_code, wind_grid):\n",
    "    # Return list of wind measurements inside the country\n",
    "    pass"
   ]
  },
  {
   "cell_type": "code",
   "execution_count": null,
   "metadata": {
    "collapsed": true
   },
   "outputs": [],
   "source": []
  }
 ],
 "metadata": {
  "kernelspec": {
   "display_name": "Python 2",
   "language": "python",
   "name": "python2"
  },
  "language_info": {
   "codemirror_mode": {
    "name": "ipython",
    "version": 2
   },
   "file_extension": ".py",
   "mimetype": "text/x-python",
   "name": "python",
   "nbconvert_exporter": "python",
   "pygments_lexer": "ipython2",
   "version": "2.7.10"
  }
 },
 "nbformat": 4,
 "nbformat_minor": 1
}
