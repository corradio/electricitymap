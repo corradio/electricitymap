{
 "cells": [
  {
   "cell_type": "code",
   "execution_count": 57,
   "metadata": {
    "collapsed": false
   },
   "outputs": [],
   "source": [
    "import arrow\n",
    "import json\n",
    "import pandas as pd\n",
    "import numpy as np\n",
    "import requests\n",
    "\n",
    "%matplotlib inline \n",
    "import matplotlib.pyplot as plt"
   ]
  },
  {
   "cell_type": "code",
   "execution_count": 58,
   "metadata": {
    "collapsed": false
   },
   "outputs": [],
   "source": [
    "#endpoint = 'http://localhost:8000'\n",
    "endpoint = 'http://electricitymap-api.tmrow.co'\n",
    "country_codes = ['DK', 'ES', 'PT']\n",
    "bounding_boxes = {\n",
    "    'DK': [\n",
    "        [13.30324, 57.751949], # NE\n",
    "        [7.60472, 54.509132], # SW\n",
    "    ],\n",
    "    'ES': [\n",
    "        [4.32788, 43.789959],\n",
    "        [-9.560789, 36.63546]\n",
    "    ],\n",
    "    'PT': [\n",
    "        [-6.18931, 42.154121],\n",
    "        [-9.5, 37]\n",
    "    ]\n",
    "}\n",
    "start, end = [\n",
    "    arrow.get(2016, 11, 19),\n",
    "    arrow.get(2016, 12, 1)\n",
    "]\n",
    "time_span = map(lambda o: o[0], arrow.Arrow.span_range('hour', start, end))"
   ]
  },
  {
   "cell_type": "code",
   "execution_count": 59,
   "metadata": {
    "collapsed": false
   },
   "outputs": [],
   "source": [
    "r = requests.session()"
   ]
  },
  {
   "cell_type": "code",
   "execution_count": null,
   "metadata": {
    "collapsed": false
   },
   "outputs": [
    {
     "name": "stdout",
     "output_type": "stream",
     "text": [
      "2016-11-19T00:00:00+00:00 {u'countryCode': u'DK', u'datetime': u'2016-11-19T00:00:00.000Z', u'source': u'entsoe.eu', u'production': {u'oil': 11, u'nuclear': None, u'gas': 452, u'biomass': 77, u'coal': 850, u'solar': 0, u'unknown': None, u'wind': 3057, u'hydro': None}, u'_id': u'582fa2c698599dca1a5f603e', u'createdAt': u'2016-11-19T00:54:30.177Z'}\n"
     ]
    }
   ],
   "source": [
    "def fetch_production(country_code, t):\n",
    "    url = '%s/v1/production' % endpoint\n",
    "    params = {\n",
    "        'countryCode': country_code,\n",
    "        'datetime': t.to('utc').isoformat()\n",
    "    }\n",
    "    obj = r.get(url, params=params).json()\n",
    "    if not obj: return\n",
    "    return obj if (t - arrow.get(obj['datetime'])).total_seconds() < 3600 else None\n",
    "print time_span[0], fetch_production(country_codes[0], time_span[0])"
   ]
  },
  {
   "cell_type": "code",
   "execution_count": null,
   "metadata": {
    "collapsed": false
   },
   "outputs": [
    {
     "name": "stdout",
     "output_type": "stream",
     "text": [
      "Fetching DK..\n"
     ]
    }
   ],
   "source": [
    "# Fetch all country production data\n",
    "dates = map(lambda t: pd.Timestamp(t.datetime), time_span)\n",
    "df_wind = pd.DataFrame(columns=country_codes)\n",
    "df_solar = pd.DataFrame(columns=country_codes)\n",
    "\n",
    "for country_code in country_codes:\n",
    "    print 'Fetching %s..' % country_code\n",
    "    for t in time_span:\n",
    "        o = fetch_production(country_code, t)\n",
    "        if not o: continue\n",
    "        t = arrow.get(o['datetime']).datetime\n",
    "        if o.get('production', {}).get('wind', None) is not None:\n",
    "            df_wind.loc[t, country_code] = o['production']['wind']\n",
    "        if o.get('production', {}).get('solar', None) is not None:\n",
    "            df_solar.loc[t, country_code] = o['production']['solar']\n",
    "df_wind = df_wind.sort_index()\n",
    "df_solar = df_solar.sort_index()\n",
    "# TODO: write in a cache"
   ]
  },
  {
   "cell_type": "code",
   "execution_count": null,
   "metadata": {
    "collapsed": false
   },
   "outputs": [],
   "source": [
    "df_wind.plot(marker='x', title='Wind')\n",
    "df_solar.plot(marker='x', title='Solar')"
   ]
  },
  {
   "cell_type": "code",
   "execution_count": null,
   "metadata": {
    "collapsed": false
   },
   "outputs": [],
   "source": [
    "import os\n",
    "import sys\n",
    "module_path = os.path.abspath(os.path.join('..'))\n",
    "if module_path not in sys.path:\n",
    "    sys.path.append(module_path)\n",
    "from feeder.parsers import weather\n",
    "\n",
    "# Force a reload\n",
    "reload(weather)\n",
    "\n",
    "def fetch_best_forecast(t):\n",
    "    return weather.fetch_weather(t, compress=False, useCache=True)"
   ]
  },
  {
   "cell_type": "code",
   "execution_count": null,
   "metadata": {
    "collapsed": false
   },
   "outputs": [],
   "source": [
    "t = time_span[0]\n",
    "obj = fetch_best_forecast(t)"
   ]
  },
  {
   "cell_type": "code",
   "execution_count": null,
   "metadata": {
    "collapsed": false
   },
   "outputs": [],
   "source": [
    "def get_measurements(country_code, t, obj):\n",
    "    # Return list of measurements inside the country\n",
    "    header_before = obj['forecasts'][0]['wind'][0]['header']\n",
    "    header_after  = obj['forecasts'][1]['wind'][0]['header']\n",
    "    t_before = arrow.get(header_before['refTime']).replace(hours=+header_before['forecastTime'])\n",
    "    t_after  = arrow.get( header_after['refTime']).replace(hours=+header_after['forecastTime'])\n",
    "\n",
    "    grid_origin = [header_before['lo1'], header_before['la1']]\n",
    "    grid_delta = [header_before['dx'], header_before['dy']]\n",
    "    grid_n = [header_before['nx'], header_before['ny']]\n",
    "\n",
    "    speeds = []\n",
    "    dswrfs = []\n",
    "    bb = bounding_boxes[country_code]\n",
    "\n",
    "    for i in range(grid_n[0]):\n",
    "        for j in range(grid_n[1]):\n",
    "            lon = grid_origin[0] + i * grid_delta[0]\n",
    "            if lon > 180: lon -= 360\n",
    "            lat = grid_origin[1] - j * grid_delta[1]\n",
    "            p = j * grid_n[0] + i\n",
    "            if lon <= bb[0][0] and lat <= bb[0][1] and \\\n",
    "                lon >= bb[1][0] and lat >= bb[1][1]:\n",
    "                # We're in the box!\n",
    "                x = (t.timestamp - t_before.timestamp)/(t_after.timestamp - t_before.timestamp)\n",
    "                if abs(x) > 1: raise Exception('t is outside of bounds!')\n",
    "                u = obj['forecasts'][0]['wind'][0]['data'][p] * (1-x) + obj['forecasts'][1]['wind'][0]['data'][p] * x\n",
    "                v = obj['forecasts'][0]['wind'][1]['data'][p] * (1-x) + obj['forecasts'][1]['wind'][1]['data'][p] * x\n",
    "                s = obj['forecasts'][0]['solar']['data'][p] * (1-x)   + obj['forecasts'][1]['solar']['data'][p] * x\n",
    "\n",
    "                speeds.append(np.sqrt(u*u + v*v))\n",
    "                dswrfs.append(s)\n",
    "    \n",
    "    return (speeds, dswrfs)\n",
    "\n",
    "t = arrow.get(2016, 11, 20, 12, 0)\n",
    "ws, s = get_measurements('DK', arrow.get(t), fetch_best_forecast(t))\n",
    "print ws, s\n",
    "plt.figure()\n",
    "plt.hist(ws)\n",
    "plt.figure()\n",
    "plt.hist(s);"
   ]
  },
  {
   "cell_type": "code",
   "execution_count": null,
   "metadata": {
    "collapsed": false,
    "scrolled": false
   },
   "outputs": [],
   "source": [
    "for country_code in country_codes:\n",
    "    ws_means = []\n",
    "    ws_medians = []\n",
    "    ws_maxs = []\n",
    "    ws_mins = []\n",
    "    for i in range(len(df_wind)):\n",
    "        t = arrow.get(df_wind.index[i])\n",
    "        w_fcast = fetch_best_forecast(t)\n",
    "        if not w_fcast: \n",
    "            print 'Skipping forecast at %s' % t\n",
    "            continue\n",
    "        ws, _ = get_measurements(country_code, t, w_fcast)\n",
    "        ws_means.append(np.mean(ws))\n",
    "        ws_medians.append(np.median(ws))\n",
    "        ws_maxs.append(np.max(ws))\n",
    "        ws_mins.append(np.min(ws))\n",
    "        \n",
    "    plt.figure()\n",
    "    wind_prod = df_wind.loc[:, country_code]\n",
    "    plt.plot(ws_means, wind_prod, 'x')\n",
    "    plt.plot(ws_medians, wind_prod, 'o')\n",
    "    #plt.plot(ws_maxs, wind_prod, '+')\n",
    "    #plt.plot(ws_mins, wind_prod, 'd')\n",
    "    plt.title('Wind in %s' % country_code)\n",
    "    plt.ylabel('Wind production (MW)')\n",
    "    plt.xlabel('Wind speed (m/s)')\n",
    "    plt.legend(['mean', 'median'], loc=0)"
   ]
  },
  {
   "cell_type": "code",
   "execution_count": null,
   "metadata": {
    "collapsed": false
   },
   "outputs": [],
   "source": [
    "for country_code in country_codes:\n",
    "    s_means = []\n",
    "    s_medians = []\n",
    "    for i in range(len(df_solar)):\n",
    "        t = arrow.get(df_solar.index[i])\n",
    "        s_fcast = fetch_solar_forecast(t)\n",
    "        if not s_fcast: \n",
    "            print 'Skipping forecast at %s' % t\n",
    "            continue\n",
    "        _, s = get_solar_measurements(country_code, t, s_fcast)\n",
    "        s_means.append(np.mean(s))\n",
    "        s_medians.append(np.median(s))\n",
    "    \n",
    "    plt.figure()\n",
    "    solar_prod = df_solar.loc[:, country_code]\n",
    "    plt.plot(s_means, solar_prod, 'x')\n",
    "    plt.plot(s_medians, solar_prod, 'o')\n",
    "    plt.title('Solar in %s' % country_code)\n",
    "    plt.ylabel('Solar production (MW)')\n",
    "    plt.xlabel('DSWRF (w/m^2)')\n",
    "    plt.legend(['mean', 'median'], loc=0)"
   ]
  },
  {
   "cell_type": "code",
   "execution_count": null,
   "metadata": {
    "collapsed": false
   },
   "outputs": [],
   "source": [
    "plt.figure(figsize=(15,5))\n",
    "plt.plot(df_solar.loc[:,'PT'].index, s_means, 'x-')"
   ]
  },
  {
   "cell_type": "code",
   "execution_count": null,
   "metadata": {
    "collapsed": true
   },
   "outputs": [],
   "source": []
  }
 ],
 "metadata": {
  "kernelspec": {
   "display_name": "Python 2",
   "language": "python",
   "name": "python2"
  },
  "language_info": {
   "codemirror_mode": {
    "name": "ipython",
    "version": 2
   },
   "file_extension": ".py",
   "mimetype": "text/x-python",
   "name": "python",
   "nbconvert_exporter": "python",
   "pygments_lexer": "ipython2",
   "version": "2.7.10"
  }
 },
 "nbformat": 4,
 "nbformat_minor": 1
}
