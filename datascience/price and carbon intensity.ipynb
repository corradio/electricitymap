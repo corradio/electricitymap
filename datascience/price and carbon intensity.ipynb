{
 "cells": [
  {
   "cell_type": "markdown",
   "metadata": {},
   "source": [
    "## Analysis of Price and Carbon Intensity of European Countries"
   ]
  },
  {
   "cell_type": "markdown",
   "metadata": {},
   "source": [
    "In this notebook we present a short analysis of price and carbon intensity for European countries. We first pull data from the Electricity Map, we then display a simple scatterplot."
   ]
  },
  {
   "cell_type": "code",
   "execution_count": 30,
   "metadata": {
    "collapsed": false,
    "deletable": true,
    "editable": true
   },
   "outputs": [],
   "source": [
    "import arrow\n",
    "import pandas as pd\n",
    "import requests\n",
    "from altair import *\n",
    "\n",
    "endpoint = 'http://www.electricitymap.org'\n",
    "r = requests.session()"
   ]
  },
  {
   "cell_type": "code",
   "execution_count": 2,
   "metadata": {
    "collapsed": false,
    "deletable": true,
    "editable": true
   },
   "outputs": [],
   "source": [
    "def fetch_state(t):\n",
    "    url = '%s/v1/state' % endpoint\n",
    "    params = {\n",
    "        'datetime': t\n",
    "    }\n",
    "    obj = r.get(url, params=params).json()\n",
    "    return obj['data']\n",
    "\n",
    "\n",
    "def fetch_co2(country_code):\n",
    "    url = '%s/v1/co2' % endpoint\n",
    "    params = {\n",
    "        'countryCode': country_code\n",
    "    }\n",
    "    obj = r.get(url, params=params).json()\n",
    "    return obj['data']\n",
    "\n",
    "def get_co2(countries):\n",
    "    df = None\n",
    "    for country in countries:\n",
    "        print 'Fetching country %s..' % country\n",
    "        o = fetch_co2(country)\n",
    "        if set(['price', 'co2intensity']).issubset(o):\n",
    "            p = pd.DataFrame({\n",
    "            'timestamp': o['datetime'],\n",
    "            'country': country,\n",
    "            'co2intensity': o['co2intensity'],\n",
    "            'maxProduction': o['maxProduction'],\n",
    "            'price': o['price']['value']}, index=[country])\n",
    "            if df is not None: df = df.append(p)\n",
    "            else: df = p\n",
    "    return df"
   ]
  },
  {
   "cell_type": "markdown",
   "metadata": {},
   "source": [
    "The functions below fetch data from the Electricity Map API. You can see all the routes of the app [on the server.js file](https://github.com/corradio/electricitymap/blob/master/web/server.js#L122). \n",
    "\n",
    "We will use here the route `/v1/co2` that returns for a given country data on the carbon intensity of its electricity production. \n",
    "\n",
    "The limitation of this route is that it only returns the current values (as opposed to multiple historical values). \n",
    "\n",
    "Here are the keys of the object returned for France: "
   ]
  },
  {
   "cell_type": "code",
   "execution_count": 32,
   "metadata": {
    "collapsed": false
   },
   "outputs": [
    {
     "data": {
      "text/plain": [
       "[u'totalImport',\n",
       " u'countryCode',\n",
       " u'exchange',\n",
       " u'totalExport',\n",
       " u'maxImport',\n",
       " u'price',\n",
       " u'storage',\n",
       " u'datetime',\n",
       " u'exchangeCo2Intensities',\n",
       " u'source',\n",
       " u'maxProduction',\n",
       " u'production',\n",
       " u'maxStorage',\n",
       " u'productionCo2Intensities',\n",
       " u'co2intensity',\n",
       " u'totalNetExchange',\n",
       " u'totalStorage',\n",
       " u'_id',\n",
       " u'totalProduction',\n",
       " u'createdAt',\n",
       " u'maxExport']"
      ]
     },
     "execution_count": 32,
     "metadata": {},
     "output_type": "execute_result"
    }
   ],
   "source": [
    "fetch_co2('FR').keys()"
   ]
  },
  {
   "cell_type": "markdown",
   "metadata": {},
   "source": [
    "We use the route `/v1/state` to return a list of all the countries available in the Electricity Map:"
   ]
  },
  {
   "cell_type": "code",
   "execution_count": 3,
   "metadata": {
    "collapsed": false,
    "deletable": true,
    "editable": true
   },
   "outputs": [],
   "source": [
    "# We return here a list of all countries in the Electricity Map \n",
    "state = fetch_state(arrow.get('2017-02-12'))\n",
    "countries = state['countries'].keys()"
   ]
  },
  {
   "cell_type": "markdown",
   "metadata": {},
   "source": [
    "We then build a dataframe by fetching the `/v1/co2` route for each country with the `get_co2()` function we built earlier: "
   ]
  },
  {
   "cell_type": "code",
   "execution_count": null,
   "metadata": {
    "collapsed": false,
    "deletable": true,
    "editable": true
   },
   "outputs": [],
   "source": [
    "df = get_co2(countries)"
   ]
  },
  {
   "cell_type": "markdown",
   "metadata": {},
   "source": [
    "It looks like we are missing data for some countries. This could be due to missing data in the ENSTOE data source. \n",
    "\n",
    "Let's count how many countries are missing:"
   ]
  },
  {
   "cell_type": "code",
   "execution_count": 29,
   "metadata": {
    "collapsed": false
   },
   "outputs": [
    {
     "data": {
      "text/plain": [
       "20"
      ]
     },
     "execution_count": 29,
     "metadata": {},
     "output_type": "execute_result"
    }
   ],
   "source": [
    "len(countries) - df['country'].count()"
   ]
  },
  {
   "cell_type": "markdown",
   "metadata": {},
   "source": [
    "We can now display a graph of `Price and Carbon Intensity of European Countries as of 2016-02-12`: "
   ]
  },
  {
   "cell_type": "code",
   "execution_count": 35,
   "metadata": {
    "collapsed": false,
    "deletable": true,
    "editable": true
   },
   "outputs": [
    {
     "data": {
      "text/html": [
       "<div class=\"vega-embed\" id=\"1597660d-0275-4834-afcd-68c80c4c3d28\"></div>\n",
       "\n",
       "<style>\n",
       ".vega-embed svg, .vega-embed canvas {\n",
       "  border: 1px dotted gray;\n",
       "}\n",
       "\n",
       ".vega-embed .vega-actions a {\n",
       "  margin-right: 6px;\n",
       "}\n",
       "</style>\n"
      ]
     },
     "metadata": {
      "jupyter-vega": "#1597660d-0275-4834-afcd-68c80c4c3d28"
     },
     "output_type": "display_data"
    },
    {
     "data": {
      "application/javascript": [
       "var spec = {\"data\": {\"values\": [{\"country\": \"BE\", \"maxProduction\": 4992, \"price\": 35.56, \"timestamp\": \"2017-02-12T22:00:00.000Z\", \"co2intensity\": 171.86821541710665}, {\"country\": \"FR\", \"maxProduction\": 48634, \"price\": 39.58, \"timestamp\": \"2017-02-13T00:00:00.000Z\", \"co2intensity\": 77.47244817834886}, {\"country\": \"HU\", \"maxProduction\": 1437, \"price\": 30.43, \"timestamp\": \"2017-02-13T00:15:00.000Z\", \"co2intensity\": 349.5562730580559}, {\"country\": \"FI\", \"maxProduction\": 2785, \"price\": 28.83, \"timestamp\": \"2017-02-13T00:00:00.000Z\", \"co2intensity\": 215.85697294511178}, {\"country\": \"PT\", \"maxProduction\": 3551, \"price\": 42.16, \"timestamp\": \"2017-02-12T02:00:00.000Z\", \"co2intensity\": 212.3102228321414}, {\"country\": \"RS\", \"maxProduction\": 3302, \"price\": 42.05, \"timestamp\": \"2017-02-09T13:00:00.000Z\", \"co2intensity\": 516.0461474533428}, {\"country\": \"LV\", \"maxProduction\": 277, \"price\": 28.83, \"timestamp\": \"2017-02-13T00:00:00.000Z\", \"co2intensity\": 496.9827209739484}, {\"country\": \"LT\", \"maxProduction\": 68, \"price\": 28.83, \"timestamp\": \"2017-02-13T00:00:00.000Z\", \"co2intensity\": 444.0819678230095}, {\"country\": \"RO\", \"maxProduction\": 2339, \"price\": 176.0, \"timestamp\": \"2017-02-13T00:00:00.000Z\", \"co2intensity\": 408.006376490158}, {\"country\": \"PL\", \"maxProduction\": 15340, \"price\": 31.35, \"timestamp\": \"2017-02-12T23:00:00.000Z\", \"co2intensity\": 758.0625754406499}, {\"country\": \"CH\", \"maxProduction\": 1651, \"price\": 44.95, \"timestamp\": \"2017-02-12T23:00:00.000Z\", \"co2intensity\": 244.44281187975088}, {\"country\": \"GR\", \"maxProduction\": 2572, \"price\": 46.0, \"timestamp\": \"2017-02-12T23:00:00.000Z\", \"co2intensity\": 569.3698643079783}, {\"country\": \"EE\", \"maxProduction\": 945, \"price\": 28.83, \"timestamp\": \"2017-02-12T23:00:00.000Z\", \"co2intensity\": 532.1099926073412}, {\"country\": \"CZ\", \"maxProduction\": 5485, \"price\": 30.43, \"timestamp\": \"2017-02-13T00:00:00.000Z\", \"co2intensity\": 542.3339519200473}, {\"country\": \"GB\", \"maxProduction\": 8613, \"price\": 51.0, \"timestamp\": \"2017-02-12T23:00:00.000Z\", \"co2intensity\": 252.74626414353966}, {\"country\": \"ES\", \"maxProduction\": 14089, \"price\": 42.16, \"timestamp\": \"2017-02-13T00:00:00.000Z\", \"co2intensity\": 139.5729892388709}, {\"country\": \"SK\", \"maxProduction\": 1912, \"price\": 30.43, \"timestamp\": \"2017-02-13T00:00:00.000Z\", \"co2intensity\": 363.8273672340091}, {\"country\": \"SI\", \"maxProduction\": 697, \"price\": 28.83, \"timestamp\": \"2017-02-12T23:00:00.000Z\", \"co2intensity\": 308.62158689252095}, {\"country\": \"AT\", \"maxProduction\": 2658, \"price\": 40.13, \"timestamp\": \"2017-02-12T23:30:00.000Z\", \"co2intensity\": 389.8170447250858}]}, \"encoding\": {\"y\": {\"field\": \"co2intensity\", \"type\": \"quantitative\"}, \"text\": {\"field\": \"country\", \"type\": \"nominal\"}, \"x\": {\"field\": \"price\", \"type\": \"quantitative\"}}, \"config\": {\"cell\": {\"width\": 500, \"height\": 350}}, \"mark\": \"text\"};\n",
       "var selector = \"#1597660d-0275-4834-afcd-68c80c4c3d28\";\n",
       "var type = \"vega-lite\";\n",
       "\n",
       "var output_area = this;\n",
       "require(['nbextensions/jupyter-vega/index'], function(vega) {\n",
       "  vega.render(selector, spec, type, output_area);\n",
       "}, function (err) {\n",
       "  if (err.requireType !== 'scripterror') {\n",
       "    throw(err);\n",
       "  }\n",
       "});\n"
      ]
     },
     "metadata": {
      "jupyter-vega": "#1597660d-0275-4834-afcd-68c80c4c3d28"
     },
     "output_type": "display_data"
    },
    {
     "data": {
      "image/png": "[encoded data removed]"
     },
     "metadata": {
      "jupyter-vega": "#1597660d-0275-4834-afcd-68c80c4c3d28"
     },
     "output_type": "display_data"
    }
   ],
   "source": [
    "Chart(df).mark_text().encode(\n",
    "    x='price',\n",
    "    y='co2intensity',\n",
    "    text='country'\n",
    ")"
   ]
  },
  {
   "cell_type": "markdown",
   "metadata": {},
   "source": [
    "From the graph above we can have the following observations: \n",
    "\n",
    "- It does not look like low carbon electricity production has a higher price\n",
    "- `Romania` has a suprising high price for its electricity production. Almost 3 times higher than other countries. "
   ]
  },
  {
   "cell_type": "markdown",
   "metadata": {},
   "source": [
    "## Next Steps"
   ]
  },
  {
   "cell_type": "markdown",
   "metadata": {},
   "source": [
    "As next steps, it would be interesting to: \n",
    "- Explore what's happening with Romania. Is it a data bug? \n",
    "- Break down electricity production by sources and investigate high / low price point per electricity mix.\n",
    "- Fetch data historically in order to average \n",
    "- Get data for missing countries. "
   ]
  },
  {
   "cell_type": "code",
   "execution_count": null,
   "metadata": {
    "collapsed": true
   },
   "outputs": [],
   "source": []
  }
 ],
 "metadata": {
  "kernelspec": {
   "display_name": "Python 2",
   "language": "python",
   "name": "python2"
  },
  "language_info": {
   "codemirror_mode": {
    "name": "ipython",
    "version": 2
   },
   "file_extension": ".py",
   "mimetype": "text/x-python",
   "name": "python",
   "nbconvert_exporter": "python",
   "pygments_lexer": "ipython2",
   "version": "2.7.10"
  }
 },
 "nbformat": 4,
 "nbformat_minor": 1
}
