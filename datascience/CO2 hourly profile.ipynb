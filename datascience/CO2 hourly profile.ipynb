{
 "cells": [
  {
   "cell_type": "code",
   "execution_count": 5,
   "metadata": {
    "collapsed": true
   },
   "outputs": [],
   "source": [
    "# Import Electricity Map utilities\n",
    "from utils import *\n",
    "\n",
    "# Enable inline plotting\n",
    "%matplotlib inline \n",
    "import matplotlib.pyplot as plt"
   ]
  },
  {
   "cell_type": "code",
   "execution_count": 6,
   "metadata": {
    "collapsed": false
   },
   "outputs": [],
   "source": [
    "df = get_state(['BE', 'DK', 'FR', 'HU'], '2017-02-01', '2017-02-13', 60)"
   ]
  },
  {
   "cell_type": "code",
   "execution_count": 7,
   "metadata": {
    "collapsed": false
   },
   "outputs": [
    {
     "data": {
      "text/html": [
       "<div>\n",
       "<table border=\"1\" class=\"dataframe\">\n",
       "  <thead>\n",
       "    <tr style=\"text-align: right;\">\n",
       "      <th></th>\n",
       "      <th>co2intensity</th>\n",
       "      <th>country</th>\n",
       "      <th>timestamp</th>\n",
       "      <th>hourofday</th>\n",
       "    </tr>\n",
       "  </thead>\n",
       "  <tbody>\n",
       "    <tr>\n",
       "      <th>0</th>\n",
       "      <td>232.379883</td>\n",
       "      <td>BE</td>\n",
       "      <td>2017-02-01 00:00:00+00:00</td>\n",
       "      <td>00</td>\n",
       "    </tr>\n",
       "    <tr>\n",
       "      <th>0</th>\n",
       "      <td>387.713815</td>\n",
       "      <td>DK</td>\n",
       "      <td>2017-02-01 00:00:00+00:00</td>\n",
       "      <td>00</td>\n",
       "    </tr>\n",
       "    <tr>\n",
       "      <th>0</th>\n",
       "      <td>81.543961</td>\n",
       "      <td>FR</td>\n",
       "      <td>2017-01-31 23:45:00+00:00</td>\n",
       "      <td>23</td>\n",
       "    </tr>\n",
       "    <tr>\n",
       "      <th>0</th>\n",
       "      <td>313.860716</td>\n",
       "      <td>HU</td>\n",
       "      <td>2017-02-01 00:00:00+00:00</td>\n",
       "      <td>00</td>\n",
       "    </tr>\n",
       "    <tr>\n",
       "      <th>0</th>\n",
       "      <td>231.419234</td>\n",
       "      <td>BE</td>\n",
       "      <td>2017-02-01 01:00:00+00:00</td>\n",
       "      <td>01</td>\n",
       "    </tr>\n",
       "  </tbody>\n",
       "</table>\n",
       "</div>"
      ],
      "text/plain": [
       "   co2intensity country                 timestamp hourofday\n",
       "0    232.379883      BE 2017-02-01 00:00:00+00:00        00\n",
       "0    387.713815      DK 2017-02-01 00:00:00+00:00        00\n",
       "0     81.543961      FR 2017-01-31 23:45:00+00:00        23\n",
       "0    313.860716      HU 2017-02-01 00:00:00+00:00        00\n",
       "0    231.419234      BE 2017-02-01 01:00:00+00:00        01"
      ]
     },
     "execution_count": 7,
     "metadata": {},
     "output_type": "execute_result"
    }
   ],
   "source": [
    "df['hourofday'] = df['timestamp'].apply(lambda x: arrow.get(x).floor('hour').format('HH'))\n",
    "df.head()"
   ]
  },
  {
   "cell_type": "code",
   "execution_count": 15,
   "metadata": {
    "collapsed": false
   },
   "outputs": [
    {
     "data": {
      "text/plain": [
       "<matplotlib.text.Text at 0x10cec5310>"
      ]
     },
     "execution_count": 15,
     "metadata": {},
     "output_type": "execute_result"
    },
    {
     "data": {
      "image/png": "[encoded data removed]",
      "text/plain": [
       "<matplotlib.figure.Figure at 0x10cd5d150>"
      ]
     },
     "metadata": {},
     "output_type": "display_data"
    }
   ],
   "source": [
    "ctr = 'DK'\n",
    "means = df[df['country'] == ctr].groupby(['hourofday']).mean()\n",
    "errs = df[df['country'] == ctr].groupby(['hourofday']).std()\n",
    "means.plot.bar(yerr=errs)\n",
    "ax = plt.gca()\n",
    "ax.set_ylim([300, 450])\n",
    "ax.set_title('Hourly CO2 intensity of %s' % ctr)"
   ]
  },
  {
   "cell_type": "code",
   "execution_count": null,
   "metadata": {
    "collapsed": false
   },
   "outputs": [],
   "source": []
  },
  {
   "cell_type": "code",
   "execution_count": null,
   "metadata": {
    "collapsed": true
   },
   "outputs": [],
   "source": []
  }
 ],
 "metadata": {
  "kernelspec": {
   "display_name": "Python 2",
   "language": "python",
   "name": "python2"
  },
  "language_info": {
   "codemirror_mode": {
    "name": "ipython",
    "version": 2
   },
   "file_extension": ".py",
   "mimetype": "text/x-python",
   "name": "python",
   "nbconvert_exporter": "python",
   "pygments_lexer": "ipython2",
   "version": "2.7.10"
  }
 },
 "nbformat": 4,
 "nbformat_minor": 1
}
