{
 "cells": [
  {
   "cell_type": "markdown",
   "metadata": {},
   "source": [
    "# Analysis of penetration of renewables"
   ]
  },
  {
   "cell_type": "markdown",
   "metadata": {},
   "source": [
    "This notebook shows how to use [utils function](https://github.com/corradio/electricitymap/tree/master/datascience#data-science). In particular we show how to show to % of power production coming from renewables, in a some countries. "
   ]
  },
  {
   "cell_type": "code",
   "execution_count": null,
   "metadata": {
    "collapsed": true
   },
   "outputs": [],
   "source": [
    "# Import Electricity Map utilities\n",
    "from utils import *\n",
    "\n",
    "# Enable inline plotting\n",
    "%matplotlib inline \n",
    "import matplotlib.pyplot as plt"
   ]
  },
  {
   "cell_type": "code",
   "execution_count": null,
   "metadata": {
    "collapsed": false
   },
   "outputs": [
    {
     "name": "stdout",
     "output_type": "stream",
     "text": [
      "Fetching country DE..\n",
      "Fetching country DK..\n"
     ]
    }
   ],
   "source": [
    "# Fetch data\n",
    "country_codes = ['DE', 'DK', 'FR']\n",
    "df_production = get_production(country_codes, '2017-01-01', '2017-01-16', 60)"
   ]
  },
  {
   "cell_type": "code",
   "execution_count": null,
   "metadata": {
    "collapsed": false
   },
   "outputs": [],
   "source": [
    "# Show the tail of the data frame\n",
    "df_production.head()"
   ]
  },
  {
   "cell_type": "code",
   "execution_count": null,
   "metadata": {
    "collapsed": false
   },
   "outputs": [],
   "source": [
    "# Compute % of renewable production in each country\n",
    "is_renewable = (df_production['mode'] == 'hydro') | (df_production['mode'] == 'wind') | (df_production['mode'] == 'solar')\n",
    "df_renewable_production = df_production[is_renewable].groupby(['timestamp', 'country']).sum()\n",
    "df_renewable_production['total'] = df_production.groupby(['timestamp', 'country']).sum()\n",
    "df_renewable_production['ratio'] = df_renewable_production['production'] / df_renewable_production['total']\n",
    "df_renewable_production.head()"
   ]
  },
  {
   "cell_type": "code",
   "execution_count": null,
   "metadata": {
    "collapsed": false
   },
   "outputs": [],
   "source": [
    "# Plot ratio of renewable\n",
    "plt.figure(figsize=(10,3));\n",
    "df_renewable_production.filter(['ratio']).unstack().plot(ax=plt.gca());\n",
    "plt.title('Ratio of renewable (hydro, solar and wind) compared to total production');\n",
    "plt.legend(country_codes);\n",
    "plt.xlabel('Time');\n",
    "plt.ylim([0, 1]);"
   ]
  },
  {
   "cell_type": "code",
   "execution_count": null,
   "metadata": {
    "collapsed": true
   },
   "outputs": [],
   "source": []
  }
 ],
 "metadata": {
  "kernelspec": {
   "display_name": "Python 2",
   "language": "python",
   "name": "python2"
  },
  "language_info": {
   "codemirror_mode": {
    "name": "ipython",
    "version": 2
   },
   "file_extension": ".py",
   "mimetype": "text/x-python",
   "name": "python",
   "nbconvert_exporter": "python",
   "pygments_lexer": "ipython2",
   "version": "2.7.10"
  }
 },
 "nbformat": 4,
 "nbformat_minor": 1
}
